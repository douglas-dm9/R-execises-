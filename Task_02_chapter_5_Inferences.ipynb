{
  "cells": [
    {
      "cell_type": "code",
      "execution_count": null,
      "id": "af60fb97",
      "metadata": {
        "id": "af60fb97",
        "outputId": "bf522fd1-0333-47f0-9c92-7a3acc822f52",
        "colab": {
          "base_uri": "https://localhost:8080/"
        }
      },
      "outputs": [
        {
          "output_type": "stream",
          "name": "stderr",
          "text": [
            "Installing package into ‘/usr/local/lib/R/site-library’\n",
            "(as ‘lib’ is unspecified)\n",
            "\n",
            "Installing package into ‘/usr/local/lib/R/site-library’\n",
            "(as ‘lib’ is unspecified)\n",
            "\n"
          ]
        }
      ],
      "source": [
        "install.packages(\"BSDA\")\n",
        "install.packages(\"boot\",dep=TRUE)"
      ]
    },
    {
      "cell_type": "code",
      "source": [
        "install.packages(\"DescTools\")"
      ],
      "metadata": {
        "colab": {
          "base_uri": "https://localhost:8080/"
        },
        "id": "NXx-dhKrqral",
        "outputId": "09a92ca3-0a97-40fa-9ce3-4bac8dff503f"
      },
      "id": "NXx-dhKrqral",
      "execution_count": null,
      "outputs": [
        {
          "output_type": "stream",
          "name": "stderr",
          "text": [
            "Installing package into ‘/usr/local/lib/R/site-library’\n",
            "(as ‘lib’ is unspecified)\n",
            "\n"
          ]
        }
      ]
    },
    {
      "cell_type": "code",
      "source": [
        "library(purrr)\n",
        "library(boot)\n",
        "library(DescTools)\n"
      ],
      "metadata": {
        "id": "b9cXtUddSsT5"
      },
      "id": "b9cXtUddSsT5",
      "execution_count": null,
      "outputs": []
    },
    {
      "cell_type": "markdown",
      "id": "f0c03aa5",
      "metadata": {
        "id": "f0c03aa5"
      },
      "source": [
        "#### Examplo 5.1\n",
        "\n",
        "A courier company in New York City claims that its mean delivery time to any\n",
        "place in the city is less than 3 hours. The consumer protection agency decides to\n",
        "conduct a study to see if this claim is true. The agency randomly selects 50 deliveries\n",
        "and determines the mean delivery time to be 2.8 hours with a standard deviation of\n",
        "*s* = 6 hours. The agency wants to estimate the mean delivery time $\\mu$ using a 95%\n",
        "confidence interval. Obtain this interval and then decide if the courier company’s\n",
        "claim appears to be reasonable."
      ]
    },
    {
      "cell_type": "code",
      "execution_count": null,
      "id": "d7379239",
      "metadata": {
        "id": "d7379239",
        "outputId": "10a57f28-7526-421d-d428-543b292896df",
        "colab": {
          "base_uri": "https://localhost:8080/",
          "height": 34
        }
      },
      "outputs": [
        {
          "output_type": "display_data",
          "data": {
            "text/html": [
              "'Intervalos 2.629 até 2.971'"
            ],
            "text/markdown": "'Intervalos 2.629 até 2.971'",
            "text/latex": "'Intervalos 2.629 até 2.971'",
            "text/plain": [
              "[1] \"Intervalos 2.629 até 2.971\""
            ]
          },
          "metadata": {}
        }
      ],
      "source": [
        "# Resolução \n",
        "y <- 2.8 # média da amostra\n",
        "s <- 0.6 # desvio padrão\n",
        "n <- 50 # número de elementos\n",
        "erro <- qt(0.975,df=n-1)*s/sqrt(n)\n",
        "limite_inferior <- round(y-erro,3)\n",
        "limite_superior <-round(y+erro,3)\n",
        "\n",
        "sprintf(\"Intervalos %.3f até %.3f\",limite_inferior,limite_superior)"
      ]
    },
    {
      "cell_type": "markdown",
      "id": "6061677f",
      "metadata": {
        "id": "6061677f"
      },
      "source": [
        "A amostra suporta a afirmação da empresa sobre a média do tempo de entrega estar abaixo de 3 horas com intervalo de confiança de 95%"
      ]
    },
    {
      "cell_type": "markdown",
      "id": "b908e4e0",
      "metadata": {
        "id": "b908e4e0"
      },
      "source": [
        "#### Exemplo 5.3\n",
        "\n",
        "The cost of textbooks relative to other academic expenses has risen greatly over the\n",
        "past few years, and university officials have started to include the average amount\n",
        "expended on textbooks in their estimated yearly expenses for students. In order for\n",
        "these estimates to be useful, they should be within $25 of the mean expenditure for\n",
        "all undergraduate students at the university. How many students should the university\n",
        "sample in order to be 95% confident that its estimated cost of textbooks will\n",
        "satisfy the stated level of accuracy?"
      ]
    },
    {
      "cell_type": "code",
      "execution_count": null,
      "id": "ed7adc4f",
      "metadata": {
        "id": "ed7adc4f",
        "outputId": "9e0bf35a-1a34-4656-81ce-a1ba4c456a46",
        "colab": {
          "base_uri": "https://localhost:8080/",
          "height": 34
        }
      },
      "outputs": [
        {
          "output_type": "display_data",
          "data": {
            "text/html": [
              "'Numero de elementos 97'"
            ],
            "text/markdown": "'Numero de elementos 97'",
            "text/latex": "'Numero de elementos 97'",
            "text/plain": [
              "[1] \"Numero de elementos 97\""
            ]
          },
          "metadata": {}
        }
      ],
      "source": [
        "# Resolução \n",
        "li <- 250 # limite inferior\n",
        "ls <- 750 #limite superior\n",
        "s <- (li - ls) /4\n",
        "E = 25 \n",
        "z = 1.96\n",
        "n = ceiling(((z**2)*(s**2))/E**2)\n",
        "sprintf(\"Numero de elementos %0.f\",n)"
      ]
    },
    {
      "cell_type": "markdown",
      "id": "791887e2",
      "metadata": {
        "id": "791887e2"
      },
      "source": [
        "#### Exemplo 5.4\n",
        "A federal agency has decided to investigate the advertised weight printed on\n",
        "cartons of a certain brand of cereal. The company in question periodically samples\n",
        "cartons of cereal coming off the production line to check their weight. A summary\n",
        "of 1,500 of the weights made available to the agency indicates a mean weight of\n",
        "11.80 ounces per carton and a standard deviation of .75 ounce. Use this information\n",
        "to determine the number of cereal cartons the federal agency must examine to\n",
        "estimate the average weight of cartons being produced now, using a 99% confidence\n",
        "interval of width .50."
      ]
    },
    {
      "cell_type": "code",
      "execution_count": null,
      "id": "1c3e6dc6",
      "metadata": {
        "id": "1c3e6dc6",
        "outputId": "5217832b-abaa-4705-b007-37a058987b27",
        "colab": {
          "base_uri": "https://localhost:8080/",
          "height": 34
        }
      },
      "outputs": [
        {
          "output_type": "display_data",
          "data": {
            "text/html": [
              "'Numero de elementos 60'"
            ],
            "text/markdown": "'Numero de elementos 60'",
            "text/latex": "'Numero de elementos 60'",
            "text/plain": [
              "[1] \"Numero de elementos 60\""
            ]
          },
          "metadata": {}
        }
      ],
      "source": [
        "# Resolução \n",
        "s <- 0.75 \n",
        "li <- 11.8 - s # limite inferior\n",
        "ls <-  11.8  + s #limite superior\n",
        "z = 2.58\n",
        "E= 0.25\n",
        "n = ceiling(((z**2)*(s**2))/E**2)\n",
        "sprintf(\"Numero de elementos %0.f\",n)"
      ]
    },
    {
      "cell_type": "markdown",
      "id": "c63e8325",
      "metadata": {
        "id": "c63e8325"
      },
      "source": [
        "#### Exemplo 5.6\n",
        "\n",
        "Elevated serum cholesterol levels are often associated with cardiovascular disease.\n",
        "Cholesterol levels are often thought to be associated with type of diet, amount\n",
        "of exercise,and genetically related factors. A recent study examined cholesterol\n",
        "levels among recent immigrants from China. Researchers did not have any prior\n",
        "information about these people and wanted to evaluate whether their mean cholesterol\n",
        "level differed from the mean cholesterol level of middle-aged women in\n",
        "the United States. The distribution of cholesterol levels in U.S. women aged 30–50\n",
        "is known to be approximately normally distributed with a mean of 190 mg/dL. A\n",
        "random sample of n = 100 female Chinese immigrants aged 30–50 who had immigrated\n",
        "to the United States in the past year was selected from USCIS records.\n",
        "They were administered blood tests that yielded cholesterol levels having a mean\n",
        "of 178.2 mg/dL and a standard deviation of 45.3 mg/dL. Is there significant evidence\n",
        "in the data to demonstrate that the mean cholesterol level of the new immigrants differs from 190 mg/dL?"
      ]
    },
    {
      "cell_type": "markdown",
      "id": "d7f04b6e",
      "metadata": {
        "id": "d7f04b6e"
      },
      "source": [
        "* $H_{a} \\neq \\mu 190 $\n",
        "* $H_{0} = 190$"
      ]
    },
    {
      "cell_type": "code",
      "execution_count": null,
      "id": "7cb76f97",
      "metadata": {
        "id": "7cb76f97",
        "outputId": "4f3a9989-af9e-4d8e-d759-69f799090a07",
        "colab": {
          "base_uri": "https://localhost:8080/",
          "height": 34
        }
      },
      "outputs": [
        {
          "output_type": "display_data",
          "data": {
            "text/html": [
              "'Intervalos 181.01 até 198.99'"
            ],
            "text/markdown": "'Intervalos 181.01 até 198.99'",
            "text/latex": "'Intervalos 181.01 até 198.99'",
            "text/plain": [
              "[1] \"Intervalos 181.01 até 198.99\""
            ]
          },
          "metadata": {}
        }
      ],
      "source": [
        "# Resolução \n",
        "y <- 190 # média da amostra\n",
        "s <- 45.3 # desvio padrão\n",
        "n <- 100 # número de elementos\n",
        "erro <- qt(0.975,df=n-1)*s/sqrt(n)\n",
        "limite_inferior <- round(y-erro,3)\n",
        "limite_superior <-round(y+erro,3)\n",
        "\n",
        "sprintf(\"Intervalos %.2f até %.2f\",limite_inferior,limite_superior)"
      ]
    },
    {
      "cell_type": "markdown",
      "id": "26cd1053",
      "metadata": {
        "id": "26cd1053"
      },
      "source": [
        "A média observada está dentro da região de rejeição , ou seja , a média difere de $190  mg/dL$"
      ]
    },
    {
      "cell_type": "markdown",
      "id": "fdf5cb4d",
      "metadata": {
        "id": "fdf5cb4d"
      },
      "source": [
        "#### Exemplo 5.7\n",
        "\n",
        "As a part of her evaluation of municipal employees, the city manager audits the\n",
        "parking tickets issued by city parking officers to determine the number of tickets\n",
        "that were contested by the car owner and found to be improperly issued. In past\n",
        "years, the number of improperly issued tickets per officer had a normal distribution\n",
        "with mean $\\mu = 380$ and standard deviation $s = 35.2$. Because there has recently\n",
        "been a change in the city’s parking regulations, the city manager suspects that the\n",
        "mean number of improperly issued tickets has increased. An audit of 50 randomly\n",
        "selected officers is conducted to test whether there has been an increase in improper\n",
        "tickets. Use the sample data given here and $ \\alpha = .01$ to test the research hypothesis\n",
        "that the mean number of improperly issued tickets is greater than 380. The audit\n",
        "generates the following data: $n = 50$ and $y = 390$."
      ]
    },
    {
      "cell_type": "markdown",
      "id": "a014c96f",
      "metadata": {
        "id": "a014c96f"
      },
      "source": [
        "* $H_{a}: \\mu > 380$\n",
        "* $H_{0}: \\mu <= 380$"
      ]
    },
    {
      "cell_type": "code",
      "execution_count": null,
      "id": "abb4e3bf",
      "metadata": {
        "id": "abb4e3bf"
      },
      "outputs": [],
      "source": [
        "n <- 50 # tamanho da amostra\n",
        "ybar <- 390 # média da amostra \n",
        "s <- 35.2 # desvio padrao\n",
        "u <- 380 # média da população\n",
        "alpha <- 0.01 # região de rejeição\n",
        "\n",
        "z.test <- function(y, u, var,n){\n",
        "   zeta <- (ybar - u) / (s/sqrt(n))\n",
        "   return(zeta)\n",
        "}\n",
        "\n",
        "z <- qnorm(1 - alpha)"
      ]
    },
    {
      "cell_type": "code",
      "execution_count": null,
      "id": "b9c05864",
      "metadata": {
        "id": "b9c05864",
        "outputId": "ccf70172-cf98-41b9-8226-5de823c74542",
        "colab": {
          "base_uri": "https://localhost:8080/",
          "height": 34
        }
      },
      "outputs": [
        {
          "output_type": "display_data",
          "data": {
            "text/html": [
              "FALSE"
            ],
            "text/markdown": "FALSE",
            "text/latex": "FALSE",
            "text/plain": [
              "[1] FALSE"
            ]
          },
          "metadata": {}
        }
      ],
      "source": [
        "z.test(ybar, u, s,n) > z"
      ]
    },
    {
      "cell_type": "markdown",
      "id": "a2b0e938",
      "metadata": {
        "id": "a2b0e938"
      },
      "source": [
        "Tendemos a aceitar a hipótese nula de que $\\mu <= 380$."
      ]
    },
    {
      "cell_type": "markdown",
      "id": "88973694",
      "metadata": {
        "id": "88973694"
      },
      "source": [
        "#### Exemplo 5.8\n",
        "Compute b and power for the test in Example 5.7 if the actual mean number of improperly issued tickets is 395."
      ]
    },
    {
      "cell_type": "code",
      "execution_count": null,
      "id": "1cfcf48d",
      "metadata": {
        "id": "1cfcf48d"
      },
      "outputs": [],
      "source": [
        "n <- 50 # tamanho da amostra\n",
        "ybar <- 395 # média da amostra , testando 395 como média acima de 390\n",
        "s <- 35.2 # desvio padrao\n",
        "u <- 380 # média da população\n",
        "alpha <- 0.01 # região de rejeição"
      ]
    },
    {
      "cell_type": "code",
      "execution_count": null,
      "id": "bd749c68",
      "metadata": {
        "id": "bd749c68",
        "outputId": "c49ef81b-086c-4830-fb71-45c11c2a0140",
        "colab": {
          "base_uri": "https://localhost:8080/",
          "height": 34
        }
      },
      "outputs": [
        {
          "output_type": "display_data",
          "data": {
            "text/html": [
              "'Probabilidade do erro de tipo beta = 0.75'"
            ],
            "text/markdown": "'Probabilidade do erro de tipo beta = 0.75'",
            "text/latex": "'Probabilidade do erro de tipo beta = 0.75'",
            "text/plain": [
              "[1] \"Probabilidade do erro de tipo beta = 0.75\""
            ]
          },
          "metadata": {}
        }
      ],
      "source": [
        "pbeta = 1 - pnorm( qnorm(1 - alpha) - z.test(390, u, s,n))\n",
        "sprintf(\"Probabilidade do erro de tipo beta = %.2f\",pbeta)"
      ]
    },
    {
      "cell_type": "markdown",
      "id": "26fda848",
      "metadata": {
        "id": "26fda848"
      },
      "source": [
        "#### Exemplo \n",
        "\n",
        "A cereal manufacturer produces cereal in boxes having a labeled weight of\n",
        "16 ounces. The boxes are filled by machines that are set to have a mean fill per box\n",
        "of 16.37 ounces. Because the actual weight of a box filled by these machines has\n",
        "a normal distribution with a standard deviation of approximately .225 ounces, the\n",
        "percentage of boxes with a fill weighing less than 16 ounces is 5% using this setting.\n",
        "The manufacturer is concerned that one of its machines is underfilling the boxes\n",
        "and wants to sample boxes from the machine’s output to determine whether the\n",
        "mean weight m is less than 16.37—that is, to test"
      ]
    },
    {
      "cell_type": "code",
      "execution_count": null,
      "id": "69735b29",
      "metadata": {
        "id": "69735b29"
      },
      "outputs": [],
      "source": [
        "za <- qnorm(0.99)\n",
        "zb <- qnorm(0.95)\n",
        "delta  <- (16.37 - 16.27)\n",
        "sigma <- 0.225\n",
        "n.elements <- function(sigma,za,zb,delta){\n",
        " n <- (sigma**2)*((za+zb)**2)/delta**2\n",
        "   return(round(n))\n",
        "}\n"
      ]
    },
    {
      "cell_type": "code",
      "execution_count": null,
      "id": "b5db6b62",
      "metadata": {
        "id": "b5db6b62",
        "outputId": "2c190777-ec72-459a-baab-1ad6585779a0",
        "colab": {
          "base_uri": "https://localhost:8080/",
          "height": 34
        }
      },
      "outputs": [
        {
          "output_type": "display_data",
          "data": {
            "text/html": [
              "'Número mínimo de elementos = 80'"
            ],
            "text/markdown": "'Número mínimo de elementos = 80'",
            "text/latex": "'Número mínimo de elementos = 80'",
            "text/plain": [
              "[1] \"Número mínimo de elementos = 80\""
            ]
          },
          "metadata": {}
        }
      ],
      "source": [
        "sprintf(\"Número mínimo de elementos = %.0f\",n.elements(sigma,za,zb,delta))"
      ]
    },
    {
      "cell_type": "markdown",
      "id": "19ca059f",
      "metadata": {
        "id": "19ca059f"
      },
      "source": [
        "#### Exemplo 5.12\n",
        "\n",
        "Refer to Example 5.7 .\n",
        "\n",
        "a) Determine the level of significance $(p-value)$ for the statistical test, and\n",
        "reach a decision concerning the research hypothesis using $\\alpha = .01$\n",
        "\n",
        "b) If the preset value of $\\alpha$ is .05 instead of .01, does your decision\n",
        "concerning $H_a$ change?"
      ]
    },
    {
      "cell_type": "markdown",
      "id": "6cadfc99",
      "metadata": {
        "id": "6cadfc99"
      },
      "source": [
        "a) $p-value = P(\\bar{y} \\geq 390 \\, \\text{assumindo} \\, \\mu =380) = P(z < 2.01) = 1 - pmorm(2.01)$"
      ]
    },
    {
      "cell_type": "code",
      "execution_count": null,
      "id": "e7884bf6",
      "metadata": {
        "id": "e7884bf6",
        "outputId": "6b5d9000-0321-4ba3-92eb-e68b7fb4c03e",
        "colab": {
          "base_uri": "https://localhost:8080/",
          "height": 34
        }
      },
      "outputs": [
        {
          "output_type": "display_data",
          "data": {
            "text/html": [
              "0.001"
            ],
            "text/markdown": "0.001",
            "text/latex": "0.001",
            "text/plain": [
              "[1] 0.001"
            ]
          },
          "metadata": {}
        }
      ],
      "source": [
        "1 - round(pnorm(z.test(390, 380, 35.2,50)),3)"
      ]
    },
    {
      "cell_type": "markdown",
      "id": "f61ede2b",
      "metadata": {
        "id": "f61ede2b"
      },
      "source": [
        "O p-value é maior que o valor de $0.022 > \\alpha = 0.1$\n",
        "\n",
        "Assim, o dado não suporta a rejeição da hipótese nula"
      ]
    },
    {
      "cell_type": "markdown",
      "id": "c997ae45",
      "metadata": {
        "id": "c997ae45"
      },
      "source": [
        "b) Se $\\alpha = 0.5$ a tendência é rejeitar a hipótese nula e aceitar a hipótese alternativa, pois $0.2 \\leq \\alpha = 0.5$, considerando que o valor de $\\alpha$ é pré-definido antes do cálculo do $p-value$"
      ]
    },
    {
      "cell_type": "markdown",
      "id": "448e2550",
      "metadata": {
        "id": "448e2550"
      },
      "source": [
        "#### Exemplo 5.14\n",
        "\n",
        "Refer to Example 5.6. Using a preset value of  $\\alpha 0.1$, is there sufficient evidence\n",
        "in the data to support the research hypothesis?"
      ]
    },
    {
      "cell_type": "markdown",
      "id": "0b9b3fb1",
      "metadata": {
        "id": "0b9b3fb1"
      },
      "source": [
        "* $H_{a} \\neq \\mu 190 $\n",
        "* $H_{0} = 190$"
      ]
    },
    {
      "cell_type": "code",
      "execution_count": null,
      "id": "c696a00c",
      "metadata": {
        "id": "c696a00c"
      },
      "outputs": [],
      "source": [
        "n <- 100 # tamanho da amostra\n",
        "ybar <- 178.2 # média da amostra \n",
        "s <- 45.3 # desvio padrao\n",
        "u <- 190 # média da população\n",
        "alpha <- 0.01 # região de rejeição\n",
        "\n",
        "z.test <- function(y, u, s,n){\n",
        "   zeta <- (ybar - u) / (s/sqrt(n))\n",
        "   return(zeta)\n",
        "}\n",
        "\n",
        "z <- qnorm(1 - alpha)"
      ]
    },
    {
      "cell_type": "markdown",
      "id": "def10d0b",
      "metadata": {
        "id": "def10d0b"
      },
      "source": [
        "Usando a fórmula dada no exemplo 5.13:\n",
        "$$p-value = 2P(z \\geq| \\, computed \\, z|)$$"
      ]
    },
    {
      "cell_type": "code",
      "execution_count": null,
      "id": "b9cacff8",
      "metadata": {
        "id": "b9cacff8",
        "outputId": "4177ed44-9a41-430e-a7da-04e4352c7eec",
        "colab": {
          "base_uri": "https://localhost:8080/",
          "height": 34
        }
      },
      "outputs": [
        {
          "output_type": "display_data",
          "data": {
            "text/html": [
              "0.0092"
            ],
            "text/markdown": "0.0092",
            "text/latex": "0.0092",
            "text/plain": [
              "[1] 0.0092"
            ]
          },
          "metadata": {}
        }
      ],
      "source": [
        "p_value <- round((1-pnorm(z.test(y,u,s,n)*-1))*2,4)\n",
        "p_value"
      ]
    },
    {
      "cell_type": "code",
      "execution_count": null,
      "id": "b21abe35",
      "metadata": {
        "id": "b21abe35",
        "outputId": "5b99e9e5-af48-44bc-c46d-f59f1be5fdf8",
        "colab": {
          "base_uri": "https://localhost:8080/",
          "height": 34
        }
      },
      "outputs": [
        {
          "output_type": "display_data",
          "data": {
            "text/html": [
              "TRUE"
            ],
            "text/markdown": "TRUE",
            "text/latex": "TRUE",
            "text/plain": [
              "[1] TRUE"
            ]
          },
          "metadata": {}
        }
      ],
      "source": [
        "p_value < alpha"
      ]
    },
    {
      "cell_type": "markdown",
      "id": "b7c76e2a",
      "metadata": {
        "id": "b7c76e2a"
      },
      "source": [
        "O $p-value$ é muito pequeno , bem menor que $\\alpha$, ou seja, existe evidência suficiente para suportar a hipótese alternativa  e rejeitar a hipótese nula"
      ]
    },
    {
      "cell_type": "markdown",
      "id": "cbcc6b7b",
      "metadata": {
        "id": "cbcc6b7b"
      },
      "source": [
        "#### Exemplo 5.15\n",
        "\n",
        "A massive multistate outbreak of foodborne illness was attributed to Salmonella\n",
        "enteritidis. Epidemiologists determined that the source of the illness was ice\n",
        "cream. They sampled nine production runs from the company that had produced\n",
        "the ice cream to determine the level of Salmonella enteritidis in the ice cream.\n",
        "These levels (MPN/g) are as follows:\n",
        ".593 .142 .329 .691 .231 .793 .519 .392 .418\n",
        "Use these data to determine whether the average level of Salmonella enteritidis\n",
        "in the ice cream is greater than .3 MPN/g, a level that is considered to be very\n",
        "dangerous.\n",
        "Set $\\alpha = 0.1$"
      ]
    },
    {
      "cell_type": "markdown",
      "id": "e321929a",
      "metadata": {
        "id": "e321929a"
      },
      "source": [
        "* $H_{0} \\leq .3 $\n",
        "* $H_{a} > .3 $"
      ]
    },
    {
      "cell_type": "code",
      "execution_count": null,
      "id": "b1d46e74",
      "metadata": {
        "id": "b1d46e74"
      },
      "outputs": [],
      "source": [
        "samples <- c(0.593, 0.142, 0.329, 0.691, 0.231, 0.793, 0.519, 0.392, 0.418)"
      ]
    },
    {
      "cell_type": "code",
      "execution_count": null,
      "id": "c9d7db19",
      "metadata": {
        "colab": {
          "base_uri": "https://localhost:8080/",
          "height": 208
        },
        "id": "c9d7db19",
        "outputId": "728bec43-f95c-4912-d9ae-f38a76436426"
      },
      "outputs": [
        {
          "output_type": "display_data",
          "data": {
            "text/plain": [
              "\n",
              "\tOne Sample t-test\n",
              "\n",
              "data:  samples\n",
              "t = 2.2051, df = 8, p-value = 0.02927\n",
              "alternative hypothesis: true mean is greater than 0.3\n",
              "99 percent confidence interval:\n",
              " 0.2509465       Inf\n",
              "sample estimates:\n",
              "mean of x \n",
              "0.4564444 \n"
            ]
          },
          "metadata": {}
        }
      ],
      "source": [
        "t.test(samples, mu= 0.3,   alternative = 'greater',  conf.level = 0.99)"
      ]
    },
    {
      "cell_type": "markdown",
      "source": [
        "O valor de t observado não é maior que o valor que $t_{0.01}$ com 8 graus de liberadae que é 2.896, assim não temos evidência suficiente para indicar que o nível médio de *Salmonella entritidis* no sorvete é maior que $0.3 MPN/g$"
      ],
      "metadata": {
        "id": "rOBtMi7E1nlv"
      },
      "id": "rOBtMi7E1nlv"
    },
    {
      "cell_type": "markdown",
      "source": [
        "#### Exemplo 5.16\n",
        "\n",
        "Refer to Example 5.15. We have $n =9$, $\\alpha = 0.01$, and a one-sided test. Thus, $df = 8$,\n",
        "and if we estimate $\\sigma < 0.25$, we can compute the values of d corresponding to\n",
        "selected\n",
        "values of $\\mu_a$"
      ],
      "metadata": {
        "id": "3_eDzfF-XZGc"
      },
      "id": "3_eDzfF-XZGc"
    },
    {
      "cell_type": "markdown",
      "source": [
        "Exemplo teórico para demonstrar a fórmula para o cálculo do intervalo de confiança da média $\\mu$ com $\\sigma$ presente ou não:\n",
        "\n",
        "$$\\bar{y} \\pm z_{\\alpha/2} \\sigma/\\sqrt{n} \\, \\, : \\sigma \\, descconhecido$$\n",
        "$$\\bar{y} \\pm z_{\\alpha/2} \\sigma//\\sqrt{n} \\, \\, : \\sigma \\, conhecido$$"
      ],
      "metadata": {
        "id": "ahKqyNvX4P6l"
      },
      "id": "ahKqyNvX4P6l"
    },
    {
      "cell_type": "markdown",
      "source": [
        "#### Exemplo 5.18\n",
        "\n",
        "Secondhand smoke is of great concern, especially when it involves young children.\n",
        "Breathing secondhand smoke can be harmful to children’s health, contributing to\n",
        "health problems such as asthma, Sudden Infant Death Syndrome (SIDS), bronchitis\n",
        "and pneumonia, and ear infections. The developing lungs of young children\n",
        "are severely affected by exposure to secondhand smoke. Child Protective Services\n",
        "(CPS) in a city is concerned about the level of exposure to secondhand smoke for\n",
        "children placed by their agency in foster parents’ care. A method of determining\n",
        "level of exposure is to determine the urinary concentration of cotanine, a metabolite\n",
        "of nicotine. Unexposed children will typically have mean cotanine levels of 75\n",
        "or less. A random sample of 20 children suspected of being exposed to secondhand\n",
        "smoke yielded the following urinary concentrations of cotanine:\n",
        "\n",
        "29, 30, 53, 75, 89, 34, 21, 12, 58, 84, 92, 117, 115, 119, 109, 115, 134, 253, 289, 287\n",
        "\n",
        "CPS wants an estimate of the mean cotanine level in the children under their\n",
        "care. From the sample of 20 children, it computes $\\bar{y} = 105.75 $ and $s = 82.429$ . Construct\n",
        "a 95% confidence interval for the mean cotanine level for children under\n",
        "the supervision of CPS."
      ],
      "metadata": {
        "id": "XmdVwlCDZkZl"
      },
      "id": "XmdVwlCDZkZl"
    },
    {
      "cell_type": "code",
      "source": [
        "samples <- c(29, 30, 53, 75, 89, 34, 21, 12, 58, 84, 92, 117, 115, 119, 109, 115, 134, 253, 289, 287)\n",
        "ybar_sample <- mean(samples)\n",
        "s_sample =sd(samples)\n",
        "alpha = 0.95\n",
        "n_sample = 20"
      ],
      "metadata": {
        "id": "6MXYFHjlZjYW"
      },
      "id": "6MXYFHjlZjYW",
      "execution_count": null,
      "outputs": []
    },
    {
      "cell_type": "code",
      "source": [
        "set.seed(200) # Setando o seed para a replicação\n",
        "\n",
        "sample.size <- 20 # Tamanho da amostra\n",
        "\n",
        "n.samples <- 9999 # Número de réplicas de bootstrap\n",
        "\n",
        "bootstrap.mean <- c() # Criando um vetor nulo para armazenar os valores das médias\n",
        "bootstrap.sd <- c() # Criando um vetor nulo para armazenar os valores dos desvios padrão\n",
        "\n",
        "for (i in 1:n.samples)\n",
        "{\n",
        "    obs <- sample(1:sample.size, replace=TRUE)\n",
        "    bootstrap.mean[i] <- mean(samples[obs]) # Média\n",
        "    bootstrap.sd[i] <- sd(samples[obs]) # Desvio padrão\n",
        "}\n"
      ],
      "metadata": {
        "id": "OQEXiHPiR4Dq"
      },
      "id": "OQEXiHPiR4Dq",
      "execution_count": null,
      "outputs": []
    },
    {
      "cell_type": "code",
      "source": [
        "t = (bootstrap.mean - ybar_sample) / (bootstrap.sd/sqrt(20))"
      ],
      "metadata": {
        "id": "aUImdMyeclt_"
      },
      "id": "aUImdMyeclt_",
      "execution_count": null,
      "outputs": []
    },
    {
      "cell_type": "code",
      "source": [
        "t_025 = unname(quantile(t, probs = 0.025))\n",
        "t_975 = unname(quantile(t, probs = 0.975))"
      ],
      "metadata": {
        "id": "IhH7VXiocfsK"
      },
      "id": "IhH7VXiocfsK",
      "execution_count": null,
      "outputs": []
    },
    {
      "cell_type": "code",
      "source": [
        "t_025"
      ],
      "metadata": {
        "colab": {
          "base_uri": "https://localhost:8080/",
          "height": 34
        },
        "id": "iaiuJnLpgpTb",
        "outputId": "6170d1b2-26ea-4dad-efc6-0eb2fbf4d14a"
      },
      "id": "iaiuJnLpgpTb",
      "execution_count": null,
      "outputs": [
        {
          "output_type": "display_data",
          "data": {
            "text/html": [
              "-3.11898468529542"
            ],
            "text/markdown": "-3.11898468529542",
            "text/latex": "-3.11898468529542",
            "text/plain": [
              "[1] -3.118985"
            ]
          },
          "metadata": {}
        }
      ]
    },
    {
      "cell_type": "code",
      "source": [
        "t_975"
      ],
      "metadata": {
        "colab": {
          "base_uri": "https://localhost:8080/",
          "height": 34
        },
        "id": "wRyHwiqxg6qQ",
        "outputId": "65eb5149-5447-42f8-dac2-6fd493b39e68"
      },
      "id": "wRyHwiqxg6qQ",
      "execution_count": null,
      "outputs": [
        {
          "output_type": "display_data",
          "data": {
            "text/html": [
              "1.73358687442903"
            ],
            "text/markdown": "1.73358687442903",
            "text/latex": "1.73358687442903",
            "text/plain": [
              "[1] 1.733587"
            ]
          },
          "metadata": {}
        }
      ]
    },
    {
      "cell_type": "code",
      "source": [
        "li = ybar_sample - (t_975*(s_sample/sqrt(n_sample)))\n",
        "ls = ybar_sample - (t_025*(s_sample/sqrt(n_sample)))"
      ],
      "metadata": {
        "id": "Z-8GzH5kWajO"
      },
      "id": "Z-8GzH5kWajO",
      "execution_count": null,
      "outputs": []
    },
    {
      "cell_type": "code",
      "source": [
        "sprintf(\"Intervalo com 95 porcento de confiança (%.2f , %.2f)\",li,ls)"
      ],
      "metadata": {
        "colab": {
          "base_uri": "https://localhost:8080/",
          "height": 34
        },
        "id": "cL4lQTnZZCFN",
        "outputId": "c41224b8-d25e-4ba2-a5e8-f36a6f9e57c6"
      },
      "id": "cL4lQTnZZCFN",
      "execution_count": null,
      "outputs": [
        {
          "output_type": "display_data",
          "data": {
            "text/html": [
              "'Intervalo com 95 porcento de confiança (73.80 , 163.24)'"
            ],
            "text/markdown": "'Intervalo com 95 porcento de confiança (73.80 , 163.24)'",
            "text/latex": "'Intervalo com 95 porcento de confiança (73.80 , 163.24)'",
            "text/plain": [
              "[1] \"Intervalo com 95 porcento de confiança (73.80 , 163.24)\""
            ]
          },
          "metadata": {}
        }
      ]
    },
    {
      "cell_type": "markdown",
      "source": [
        "#### Exemplo 5.19\n",
        "\n",
        "Refer to Example 5.18. CPS personnel wanted to determine if the mean cotanine\n",
        "level was greater than 75 for children under their supervision. Based on the sample of 20 children and using $\\alpha = 0.05$, do the data support the contention that the mean\n",
        "exceeds 75?"
      ],
      "metadata": {
        "id": "YZpSSf8SiC5K"
      },
      "id": "YZpSSf8SiC5K"
    },
    {
      "cell_type": "markdown",
      "source": [
        "* $H_{0}: \\mu \\leq 75 $ versus  $H_{0}: \\mu > 75 $"
      ],
      "metadata": {
        "id": "ZuUzz6YIivl2"
      },
      "id": "ZuUzz6YIivl2"
    },
    {
      "cell_type": "markdown",
      "source": [
        "Calcuando o valor de t pra amostra original"
      ],
      "metadata": {
        "id": "mECrdNzrjZWx"
      },
      "id": "mECrdNzrjZWx"
    },
    {
      "cell_type": "code",
      "source": [
        "t.test(samples, mu= 75,   alternative = 'greater',  conf.level = 0.95)"
      ],
      "metadata": {
        "colab": {
          "base_uri": "https://localhost:8080/",
          "height": 208
        },
        "id": "mtZ48JMgYSpu",
        "outputId": "2daf80bb-1fcf-4271-dd9c-da12eb303ae3"
      },
      "id": "mtZ48JMgYSpu",
      "execution_count": null,
      "outputs": [
        {
          "output_type": "display_data",
          "data": {
            "text/plain": [
              "\n",
              "\tOne Sample t-test\n",
              "\n",
              "data:  samples\n",
              "t = 1.6683, df = 19, p-value = 0.05582\n",
              "alternative hypothesis: true mean is greater than 75\n",
              "95 percent confidence interval:\n",
              " 73.87923      Inf\n",
              "sample estimates:\n",
              "mean of x \n",
              "   105.75 \n"
            ]
          },
          "metadata": {}
        }
      ]
    },
    {
      "cell_type": "code",
      "source": [
        "p_value = 0.05582\n",
        "p_value  > 0.05"
      ],
      "metadata": {
        "colab": {
          "base_uri": "https://localhost:8080/",
          "height": 34
        },
        "id": "d21-zR2njglr",
        "outputId": "5a823e09-7cfe-4603-e7c3-1abc5efce9b1"
      },
      "id": "d21-zR2njglr",
      "execution_count": null,
      "outputs": [
        {
          "output_type": "display_data",
          "data": {
            "text/html": [
              "TRUE"
            ],
            "text/markdown": "TRUE",
            "text/latex": "TRUE",
            "text/plain": [
              "[1] TRUE"
            ]
          },
          "metadata": {}
        }
      ]
    },
    {
      "cell_type": "markdown",
      "source": [
        "Não há evidência suficiente que o data suporta a hipótese que a média de cotanina é maior que 75. O tamanho pequeno da amostra e a possibilidade de distribuição anormal dos dados contribui para essa suspeita"
      ],
      "metadata": {
        "id": "yxmZdMFLlF1N"
      },
      "id": "yxmZdMFLlF1N"
    },
    {
      "cell_type": "markdown",
      "source": [
        "#### Exemplo 5.21\n",
        "\n",
        "Using the data in Example 5.20, find a 95% confidence interval for the median\n",
        "using the approximation to $C_{\\alpha}(2),_{n}$."
      ],
      "metadata": {
        "id": "X0vOpPcEloIE"
      },
      "id": "X0vOpPcEloIE"
    },
    {
      "cell_type": "code",
      "source": [
        "n = 25 \n",
        "alpha = 0.05\n",
        "z_alpha = qnorm(alpha/2)*-1"
      ],
      "metadata": {
        "id": "PhMoVNojj_if"
      },
      "id": "PhMoVNojj_if",
      "execution_count": null,
      "outputs": []
    },
    {
      "cell_type": "code",
      "source": [
        "C_alpha_2 = floor((n/2) - z_alpha*sqrt(n/4))\n",
        "C_alpha_2"
      ],
      "metadata": {
        "colab": {
          "base_uri": "https://localhost:8080/",
          "height": 34
        },
        "id": "p-aprNH9mFHM",
        "outputId": "caa993c1-c018-4c2e-f1ac-78cbc3629b28"
      },
      "id": "p-aprNH9mFHM",
      "execution_count": null,
      "outputs": [
        {
          "output_type": "display_data",
          "data": {
            "text/html": [
              "7"
            ],
            "text/markdown": "7",
            "text/latex": "7",
            "text/plain": [
              "[1] 7"
            ]
          },
          "metadata": {}
        }
      ]
    },
    {
      "cell_type": "markdown",
      "source": [
        "Assm o intervalo de confiança é idêntico ao construído no exemplo 5.20"
      ],
      "metadata": {
        "id": "y0yV1LC93GVS"
      },
      "id": "y0yV1LC93GVS"
    },
    {
      "cell_type": "markdown",
      "source": [
        "#### Exemplo 5.22\n",
        "\n",
        "Refer to Example 5.20. The sanitation department wanted to determine whether\n",
        "the median household recyclable waste was greater than 5 pounds per week. Test\n",
        "this research hypothesis at level $\\alpha =0.05$ using the data from Exercise 5.20."
      ],
      "metadata": {
        "id": "dNazO3GenPE6"
      },
      "id": "dNazO3GenPE6"
    },
    {
      "cell_type": "markdown",
      "source": [
        "$$H_0: M \\leq  5 \\,  versus \\, H_a: M > 5$$"
      ],
      "metadata": {
        "id": "wyWM0RmCndiP"
      },
      "id": "wyWM0RmCndiP"
    },
    {
      "cell_type": "code",
      "source": [
        "x <- c(-3.9,-3.8,-2.9,-2.4,-2.3,-2.1,-1.4,-1.1,-0.8,-0.7,-0.5,-0.3,0.3,0.6,0.8,1.5,1.7,1.7,-2.8,-2.8,9.2,20.9,-24.5,-29.8,38.8)"
      ],
      "metadata": {
        "id": "H4fE08cQo_H5"
      },
      "id": "H4fE08cQo_H5",
      "execution_count": null,
      "outputs": []
    },
    {
      "cell_type": "code",
      "source": [
        "MedianCI(x, conf.level = 0.95, \n",
        "         na.rm = FALSE, method = c(\"exact\"))"
      ],
      "metadata": {
        "colab": {
          "base_uri": "https://localhost:8080/",
          "height": 34
        },
        "id": "_lTISe51nNtn",
        "outputId": "098a4fe3-8ca0-482b-e102-b9a860b30186"
      },
      "id": "_lTISe51nNtn",
      "execution_count": null,
      "outputs": [
        {
          "output_type": "display_data",
          "data": {
            "text/html": [
              "<style>\n",
              ".dl-inline {width: auto; margin:0; padding: 0}\n",
              ".dl-inline>dt, .dl-inline>dd {float: none; width: auto; display: inline-block}\n",
              ".dl-inline>dt::after {content: \":\\0020\"; padding-right: .5ex}\n",
              ".dl-inline>dt:not(:first-of-type) {padding-left: .5ex}\n",
              "</style><dl class=dl-inline><dt>median</dt><dd>-0.8</dd><dt>lwr.ci</dt><dd>-2.4</dd><dt>upr.ci</dt><dd>0.6</dd></dl>\n"
            ],
            "text/markdown": "median\n:   -0.8lwr.ci\n:   -2.4upr.ci\n:   0.6\n\n",
            "text/latex": "\\begin{description*}\n\\item[median] -0.8\n\\item[lwr.ci] -2.4\n\\item[upr.ci] 0.6\n\\end{description*}\n",
            "text/plain": [
              "median lwr.ci upr.ci \n",
              "  -0.8   -2.4    0.6 \n",
              "attr(,\"conf.level\")\n",
              "[1] 0.9567147"
            ]
          },
          "metadata": {}
        }
      ]
    },
    {
      "cell_type": "markdown",
      "source": [
        "Concluímos que os dados falham em demonstrar que a mediana do nível de lixo reciclável por morador é maior que 5 libras"
      ],
      "metadata": {
        "id": "Z041i0xLrW7i"
      },
      "id": "Z041i0xLrW7i"
    }
  ],
  "metadata": {
    "kernelspec": {
      "display_name": "R",
      "language": "R",
      "name": "ir"
    },
    "language_info": {
      "codemirror_mode": "r",
      "file_extension": ".r",
      "mimetype": "text/x-r-source",
      "name": "R",
      "pygments_lexer": "r",
      "version": "3.6.1"
    },
    "colab": {
      "provenance": [],
      "collapsed_sections": []
    }
  },
  "nbformat": 4,
  "nbformat_minor": 5
}